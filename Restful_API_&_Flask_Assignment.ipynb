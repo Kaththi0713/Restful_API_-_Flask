{
  "nbformat": 4,
  "nbformat_minor": 0,
  "metadata": {
    "colab": {
      "provenance": []
    },
    "kernelspec": {
      "name": "python3",
      "display_name": "Python 3"
    },
    "language_info": {
      "name": "python"
    }
  },
  "cells": [
    {
      "cell_type": "markdown",
      "source": [
        "# **Theoretical questions**"
      ],
      "metadata": {
        "id": "Z48j58FkOYoA"
      }
    },
    {
      "cell_type": "markdown",
      "source": [
        "1. What is a RESTful API?\n",
        "  - A RESTful API (Representational State Transfer) is a web service that uses HTTP methods (GET, POST, PUT, DELETE) to allow communication between client and server. It follows REST principles like statelessness, resource-based URIs, and structured responses (often in JSON or XML).\n",
        "\n",
        "2. Explain the concept of API specification.\n",
        "  - An API specification defines how APIs should behave. It includes endpoints, HTTP methods, request and response formats, status codes, and data types. Tools like OpenAPI/Swagger help document APIs. The specification serves as a contract between frontend and backend developers. It ensures consistency and helps with integration and testing.\n",
        "\n",
        "3. What is Flask, and why is it popular for building APIs?\n",
        "  - Flask is a lightweight Python web framework. It's popular because of its simplicity, flexibility, and minimal setup. Developers can quickly build RESTful APIs using Flask's built-in tools. Flask supports routing, middleware, templates, and extensions like Flask-SQLAlchemy and Flask-RESTful. It’s ideal for small to medium-sized projects and prototyping.\n",
        "\n",
        "4. What is routing in Flask?\n",
        "  - Routing in Flask maps URLs to functions. When a user accesses a specific URL, Flask calls the function assigned to that route using the @app.route() decorator. This allows developers to define endpoints like /home, /login, etc. Routing helps structure the application and control HTTP methods for each endpoint.\n",
        "\n",
        "\n",
        "5. How do you create a simple Flask application?\n",
        "  - Install Flask using pip install flask.\n",
        "  - Create a Python file (e.g., app.py).\n",
        "  - Import Flask and create an instance: app = Flask(__name__).\n",
        "  - Define a route using @app.route('/').\n",
        "  - Return a response from the route function.\n",
        "  - Run the app using app.run().\n",
        "\n",
        "6. What are HTTP methods used in RESTful APIs?\n",
        "  - GET: Retrieve data. POST: Create new data. PUT: Update existing data. DELETE: Remove data. PATCH: Partial update.\n",
        "Each method defines a specific action on resources.\n",
        "\n",
        "7. What is the purpose of the @app.route() decorator in Flask?\n",
        "  - @app.route() links a URL path to a function in Flask. It tells Flask to execute that function when the URL is requested. It also allows defining which HTTP methods (GET, POST, etc.) the route should accept. It's essential for handling web requests.\n",
        "\n",
        "8. What is the difference between GET and POST HTTP methods?\n",
        "  - GET retrieves data and passes parameters via URL. POST sends data in the body of the request, typically used for creating or submitting forms. GET is visible/bookmarkable but limited in size. POST is secure for sensitive data.\n",
        "\n",
        "9. How do you handle errors in Flask APIs?\n",
        "  - Use Flask’s @app.errorhandler to catch exceptions like 404 or 500.\n",
        "\n",
        "10. How do you connect Flask to a SQL database?\n",
        "  - Use Flask-SQLAlchemy extension. Install: pip install flask-sqlalchemy.Configure DB URI in app.config. Create a db instance: db = SQLAlchemy(app). Define models and call db.create_all() to create tables.\n",
        "\n",
        "11. What is the role of Flask-SQLAlchemy?\n",
        "  - Flask-SQLAlchemy is an ORM (Object Relational Mapper) that integrates SQLAlchemy with Flask. It allows developers to interact with databases using Python classes instead of SQL queries. It simplifies database connections, migrations, and CRUD operations, making code more readable and maintainable.\n",
        "\n",
        "12. What are Flask blueprints, and how are they useful?\n",
        "  - Blueprints in Flask help organize your application into smaller components or modules. They allow you to group routes, templates, and static files into reusable units. This is especially helpful for large applications, promoting modular design and better maintainability.\n",
        "\n",
        "13. What is the purpose of Flask's request object?\n",
        "  - The request object in Flask is used to access incoming request data. It helps you get query parameters, form data, JSON, headers, and cookies. For example, request.form['username'] gets form data, and request.get_json() fetches JSON from a POST request.\n",
        "\n",
        "14. How do you create a RESTful API endpoint using Flask?\n",
        "  - Use @app.route('/endpoint', methods=['GET', 'POST']). Define a function that handles the logic. Return data as JSON using jsonify().\n",
        "\n",
        "15. What is the purpose of Flask's jsonify() function?\n",
        "  - jsonify() converts Python dictionaries or lists to a valid JSON response. It also sets the correct Content-Type: application/json header. It is a safer and cleaner way to return API responses than using json.dumps().\n",
        "\n",
        "16. Explain Flask’s url_for() function.\n",
        "  - url_for() generates URLs dynamically based on function names. For example, url_for('home') returns the URL for the home() function. It avoids hardcoding URLs and supports query parameters.\n",
        "\n",
        "17. How does Flask handle static files (CSS, JavaScript, etc.)?\n",
        "  - Flask serves static files from a folder named static/. You can link to them in templates like: <link rel=\"stylesheet\" href=\"{{ url_for('static', filename='style.css') }}\">. This allows easy access to assets like images, CSS, and JS files.\n",
        "\n",
        "18. What is an API specification, and how does it help in building a Flask API?\n",
        "  - API specifications define how the API should work — endpoints, inputs, outputs, and data types. Tools like Swagger or OpenAPI use these specs. They help developers understand and use the API correctly and improve testing, documentation, and collaboration.\n",
        "\n",
        "19. What are HTTP status codes, and why are they important in a Flask API?\n",
        "  - Status codes indicate the result of HTTP requests. 200 OK: Success. 404 Not Found: Resource missing. 500 Internal Server Error: Server crash. They help clients understand what happened with their request.\n",
        "\n",
        "20. How do you handle POST requests in Flask?\n",
        "  - Use methods=['POST'] in the route. Access data via request.form or request.get_json().\n",
        "\n",
        "21. How would you secure a Flask API?\n",
        "  - Use HTTPS\n",
        "  - Implement authentication (e.g., JWT, API keys)\n",
        "  - Validate input to prevent injection\n",
        "  - Handle CORS correctly\n",
        "  - Use Flask extensions like Flask-Login or Flask-JWT\n",
        "  - Rate limit to prevent abuse\n",
        "\n",
        "22. What is the significance of the Flask-RESTful extension?\n",
        "  - Flask-RESTful simplifies building REST APIs with Flask. It provides tools like Resource classes and automatic request parsing. It makes code modular, cleaner, and faster to build scalable APIs.\n",
        "\n",
        "23. What is the role of Flask’s session object?\n",
        "  - The session object stores data across requests (like login info). It's stored on the client side as a secure cookie. Useful for tracking users without storing info in the database."
      ],
      "metadata": {
        "id": "VGSp6-G6OZZ4"
      }
    },
    {
      "cell_type": "markdown",
      "source": [
        "# **Practical questions**"
      ],
      "metadata": {
        "id": "AIiQQVUIOu4J"
      }
    },
    {
      "cell_type": "code",
      "execution_count": 1,
      "metadata": {
        "colab": {
          "base_uri": "https://localhost:8080/"
        },
        "id": "plaPUK23JBcj",
        "outputId": "ce5a24f3-51c6-4705-a309-af460efd7f30"
      },
      "outputs": [
        {
          "output_type": "stream",
          "name": "stdout",
          "text": [
            " * Serving Flask app '__main__'\n",
            " * Debug mode: on\n"
          ]
        },
        {
          "output_type": "stream",
          "name": "stderr",
          "text": [
            "INFO:werkzeug:\u001b[31m\u001b[1mWARNING: This is a development server. Do not use it in a production deployment. Use a production WSGI server instead.\u001b[0m\n",
            " * Running on http://127.0.0.1:5000\n",
            "INFO:werkzeug:\u001b[33mPress CTRL+C to quit\u001b[0m\n",
            "INFO:werkzeug: * Restarting with stat\n"
          ]
        }
      ],
      "source": [
        "# 1. How do you create a basic Flask application?\n",
        "\n",
        "from flask import Flask\n",
        "\n",
        "app = Flask(__name__)\n",
        "\n",
        "@app.route('/')\n",
        "def hello():\n",
        "    return \"Hello, World!\"\n",
        "\n",
        "if __name__ == '__main__':\n",
        "    app.run(debug=True)"
      ]
    },
    {
      "cell_type": "code",
      "source": [
        "# 2. How do you serve static files like images or CSS in Flask?\n",
        "\n",
        "from flask import Flask, render_template\n",
        "\n",
        "app = Flask(__name__)\n",
        "\n",
        "# Flask by default looks for a 'static/' folder\n",
        "# in the same directory as this app.py file.\n",
        "# You just need to place your static files there:\n",
        "#\n",
        "# your_project/\n",
        "# ├── app.py\n",
        "# └── static/\n",
        "#     ├── css/\n",
        "#     │   └── style.css\n",
        "#     └── images/\n",
        "#         └── logo.png\n",
        "#\n",
        "# And then link to them in your templates using url_for.\n",
        "\n",
        "@app.route('/')\n",
        "def home():\n",
        "    # Assuming you have an 'index.html' in a 'templates' folder\n",
        "    return render_template('index.html')\n",
        "\n",
        "if __name__ == '__main__':\n",
        "    app.run(debug=True)"
      ],
      "metadata": {
        "colab": {
          "base_uri": "https://localhost:8080/"
        },
        "id": "fyHLDqxcJI_X",
        "outputId": "c2df9aeb-9cab-4f5d-c899-68e56802b065"
      },
      "execution_count": 2,
      "outputs": [
        {
          "output_type": "stream",
          "name": "stdout",
          "text": [
            " * Serving Flask app '__main__'\n",
            " * Debug mode: on\n"
          ]
        },
        {
          "output_type": "stream",
          "name": "stderr",
          "text": [
            "INFO:werkzeug:\u001b[31m\u001b[1mWARNING: This is a development server. Do not use it in a production deployment. Use a production WSGI server instead.\u001b[0m\n",
            " * Running on http://127.0.0.1:5000\n",
            "INFO:werkzeug:\u001b[33mPress CTRL+C to quit\u001b[0m\n",
            "INFO:werkzeug: * Restarting with stat\n"
          ]
        }
      ]
    },
    {
      "cell_type": "code",
      "source": [
        "# 3. How do you define different routes with different HTTP methods in Flask?\n",
        "\n",
        "from flask import Flask, request\n",
        "\n",
        "app = Flask(__name__)\n",
        "\n",
        "# Option 1: Handle methods in one function.\n",
        "@app.route('/resource', methods=['GET', 'POST'])\n",
        "def resource_handler():\n",
        "    if request.method == 'GET':\n",
        "        return \"GET data\"\n",
        "    return \"POST data\" # Else it's a POST\n",
        "\n",
        "# Option 2: Separate functions (Flask 2.0+ shortcuts).\n",
        "@app.get('/new_resource')\n",
        "def get_new_resource():\n",
        "    return \"GET new resource\"\n",
        "\n",
        "@app.post('/new_resource')\n",
        "def create_new_resource():\n",
        "    return \"POST new resource\", 201\n",
        "\n",
        "if __name__ == '__main__':\n",
        "    app.run(debug=True)"
      ],
      "metadata": {
        "colab": {
          "base_uri": "https://localhost:8080/"
        },
        "id": "REtzdU1qKAk8",
        "outputId": "0076486c-1904-466e-be25-93a70490ae57"
      },
      "execution_count": 3,
      "outputs": [
        {
          "output_type": "stream",
          "name": "stdout",
          "text": [
            " * Serving Flask app '__main__'\n",
            " * Debug mode: on\n"
          ]
        },
        {
          "output_type": "stream",
          "name": "stderr",
          "text": [
            "INFO:werkzeug:\u001b[31m\u001b[1mWARNING: This is a development server. Do not use it in a production deployment. Use a production WSGI server instead.\u001b[0m\n",
            " * Running on http://127.0.0.1:5000\n",
            "INFO:werkzeug:\u001b[33mPress CTRL+C to quit\u001b[0m\n",
            "INFO:werkzeug: * Restarting with stat\n"
          ]
        }
      ]
    },
    {
      "cell_type": "code",
      "source": [
        "# 4. How do you render HTML templates in Flask?\n",
        "\n",
        "from flask import Flask, render_template\n",
        "\n",
        "app = Flask(__name__)\n",
        "\n",
        "@app.route('/')\n",
        "def index():\n",
        "    # Flask looks in a 'templates/' folder\n",
        "    return render_template('index.html', title='My Apps')\n",
        "\n",
        "if __name__ == '__main__':\n",
        "    app.run(debug=True)"
      ],
      "metadata": {
        "colab": {
          "base_uri": "https://localhost:8080/"
        },
        "id": "zLNK4g-5KmJe",
        "outputId": "7b84e3be-18b3-4de5-ea33-a36c509412b3"
      },
      "execution_count": 4,
      "outputs": [
        {
          "output_type": "stream",
          "name": "stdout",
          "text": [
            " * Serving Flask app '__main__'\n",
            " * Debug mode: on\n"
          ]
        },
        {
          "output_type": "stream",
          "name": "stderr",
          "text": [
            "INFO:werkzeug:\u001b[31m\u001b[1mWARNING: This is a development server. Do not use it in a production deployment. Use a production WSGI server instead.\u001b[0m\n",
            " * Running on http://127.0.0.1:5000\n",
            "INFO:werkzeug:\u001b[33mPress CTRL+C to quit\u001b[0m\n",
            "INFO:werkzeug: * Restarting with stat\n"
          ]
        }
      ]
    },
    {
      "cell_type": "code",
      "source": [
        "# 5. How can you generate URLs for routes in Flask using url_for?\n",
        "\n",
        "from flask import Flask, url_for\n",
        "\n",
        "app = Flask(__name__)\n",
        "\n",
        "@app.route('/a')\n",
        "def route_a(): return \"Route A\"\n",
        "\n",
        "@app.route('/b')\n",
        "def route_b():\n",
        "    return f'<a href=\"{url_for(\"route_a\")}\">Go to A</a>' # Generates '/a'\n",
        "\n",
        "if __name__ == '__main__': app.run(debug=True)"
      ],
      "metadata": {
        "colab": {
          "base_uri": "https://localhost:8080/"
        },
        "id": "JT-rghNJK3WK",
        "outputId": "afd8e60f-ae50-47a2-da0a-d65c94387965"
      },
      "execution_count": 5,
      "outputs": [
        {
          "output_type": "stream",
          "name": "stdout",
          "text": [
            " * Serving Flask app '__main__'\n",
            " * Debug mode: on\n"
          ]
        },
        {
          "output_type": "stream",
          "name": "stderr",
          "text": [
            "INFO:werkzeug:\u001b[31m\u001b[1mWARNING: This is a development server. Do not use it in a production deployment. Use a production WSGI server instead.\u001b[0m\n",
            " * Running on http://127.0.0.1:5000\n",
            "INFO:werkzeug:\u001b[33mPress CTRL+C to quit\u001b[0m\n",
            "INFO:werkzeug: * Restarting with stat\n"
          ]
        }
      ]
    },
    {
      "cell_type": "code",
      "source": [
        "# 6. How do you handle forms in Flask?\n",
        "\n",
        "from flask import Flask, render_template, request\n",
        "\n",
        "app = Flask(__name__)\n",
        "\n",
        "@app.route('/login', methods=['GET', 'POST'])\n",
        "def login():\n",
        "    if request.method == 'POST':\n",
        "        username = request.form['username']\n",
        "        password = request.form['password']\n",
        "        return f'Username: {username}, Password: {password}'\n",
        "    return render_template('login_form.html')\n",
        "\n",
        "if __name__ == '__main__':\n",
        "    app.run(debug=True)"
      ],
      "metadata": {
        "colab": {
          "base_uri": "https://localhost:8080/"
        },
        "id": "disnRinlLF4n",
        "outputId": "3cac19f0-db6a-41cb-c289-d26aa1443a45"
      },
      "execution_count": 6,
      "outputs": [
        {
          "output_type": "stream",
          "name": "stdout",
          "text": [
            " * Serving Flask app '__main__'\n",
            " * Debug mode: on\n"
          ]
        },
        {
          "output_type": "stream",
          "name": "stderr",
          "text": [
            "INFO:werkzeug:\u001b[31m\u001b[1mWARNING: This is a development server. Do not use it in a production deployment. Use a production WSGI server instead.\u001b[0m\n",
            " * Running on http://127.0.0.1:5000\n",
            "INFO:werkzeug:\u001b[33mPress CTRL+C to quit\u001b[0m\n",
            "INFO:werkzeug: * Restarting with stat\n"
          ]
        }
      ]
    },
    {
      "cell_type": "code",
      "source": [
        "# 7. How can you validate form data in Flask?\n",
        "\n",
        "from flask import Flask, request, flash, render_template_string\n",
        "\n",
        "app = Flask(__name__)\n",
        "app.secret_key = 'shhh' # Needed for flash messages\n",
        "\n",
        "@app.route('/', methods=['GET', 'POST'])\n",
        "def home():\n",
        "    if request.method == 'POST':\n",
        "        user_input = request.form['text_input']\n",
        "        if not user_input:\n",
        "            flash('Field cannot be empty!')\n",
        "        else:\n",
        "            flash(f'You entered: {user_input}')\n",
        "\n",
        "    return render_template_string('''\n",
        "        <form method=\"post\"><input name=\"text_input\"><button type=\"submit\">Send</button></form>\n",
        "        {% for msg in get_flashed_messages() %}<p>{{ msg }}</p>{% endfor %}\n",
        "    ''')\n",
        "\n",
        "if __name__ == '__main__':\n",
        "    app.run(debug=True)"
      ],
      "metadata": {
        "colab": {
          "base_uri": "https://localhost:8080/"
        },
        "id": "6Q8mGExYLeHC",
        "outputId": "debd6377-3b85-40e6-b9fe-e1ee012fe0f7"
      },
      "execution_count": 7,
      "outputs": [
        {
          "output_type": "stream",
          "name": "stdout",
          "text": [
            " * Serving Flask app '__main__'\n",
            " * Debug mode: on\n"
          ]
        },
        {
          "output_type": "stream",
          "name": "stderr",
          "text": [
            "INFO:werkzeug:\u001b[31m\u001b[1mWARNING: This is a development server. Do not use it in a production deployment. Use a production WSGI server instead.\u001b[0m\n",
            " * Running on http://127.0.0.1:5000\n",
            "INFO:werkzeug:\u001b[33mPress CTRL+C to quit\u001b[0m\n",
            "INFO:werkzeug: * Restarting with stat\n"
          ]
        }
      ]
    },
    {
      "cell_type": "code",
      "source": [
        "# 8. How do you manage sessions in Flask?\n",
        "\n",
        "from flask import Flask, session, render_template_string\n",
        "\n",
        "app = Flask(__name__)\n",
        "app.secret_key = 'your_secret_key' # Needed for sessions\n",
        "\n",
        "@app.route('/')\n",
        "def home():\n",
        "    # Store 'hello' in session, if not there\n",
        "    session['greeting'] = session.get('greeting', 'Hello') + '!'\n",
        "\n",
        "    return render_template_string(f'<h1>{session[\"greeting\"]}</h1><p>Refresh to add more !</p>')\n",
        "\n",
        "if __name__ == '__main__':\n",
        "    app.run(debug=True)"
      ],
      "metadata": {
        "colab": {
          "base_uri": "https://localhost:8080/"
        },
        "id": "zIfZ-cvJLt6L",
        "outputId": "7fee607b-d001-4f75-fa3e-ab1c4bee738e"
      },
      "execution_count": 8,
      "outputs": [
        {
          "output_type": "stream",
          "name": "stdout",
          "text": [
            " * Serving Flask app '__main__'\n",
            " * Debug mode: on\n"
          ]
        },
        {
          "output_type": "stream",
          "name": "stderr",
          "text": [
            "INFO:werkzeug:\u001b[31m\u001b[1mWARNING: This is a development server. Do not use it in a production deployment. Use a production WSGI server instead.\u001b[0m\n",
            " * Running on http://127.0.0.1:5000\n",
            "INFO:werkzeug:\u001b[33mPress CTRL+C to quit\u001b[0m\n",
            "INFO:werkzeug: * Restarting with stat\n"
          ]
        }
      ]
    },
    {
      "cell_type": "code",
      "source": [
        "# 9. How do you redirect to a different route in Flask?\n",
        "\n",
        "from flask import Flask, redirect, url_for\n",
        "\n",
        "app = Flask(__name__)\n",
        "\n",
        "@app.route('/')\n",
        "def home():\n",
        "    # Redirects to the 'destination' route\n",
        "    return redirect(url_for('destination'))\n",
        "\n",
        "@app.route('/there') # Renamed for clarity, was 'destination'\n",
        "def destination():\n",
        "    return \"You arrived!\"\n",
        "\n",
        "if __name__ == '__main__':\n",
        "    app.run(debug=True)"
      ],
      "metadata": {
        "colab": {
          "base_uri": "https://localhost:8080/"
        },
        "id": "XNZ0pxdJL-aL",
        "outputId": "8272962b-d8f4-4a31-e709-9e3bd6311c22"
      },
      "execution_count": 9,
      "outputs": [
        {
          "output_type": "stream",
          "name": "stdout",
          "text": [
            " * Serving Flask app '__main__'\n",
            " * Debug mode: on\n"
          ]
        },
        {
          "output_type": "stream",
          "name": "stderr",
          "text": [
            "INFO:werkzeug:\u001b[31m\u001b[1mWARNING: This is a development server. Do not use it in a production deployment. Use a production WSGI server instead.\u001b[0m\n",
            " * Running on http://127.0.0.1:5000\n",
            "INFO:werkzeug:\u001b[33mPress CTRL+C to quit\u001b[0m\n",
            "INFO:werkzeug: * Restarting with stat\n"
          ]
        }
      ]
    },
    {
      "cell_type": "code",
      "source": [
        "# 10. How do you handle errors in Flask (e.g., 404)?\n",
        "\n",
        "from flask import Flask\n",
        "\n",
        "app = Flask(__name__)\n",
        "\n",
        "# Custom 404 error handler\n",
        "@app.errorhandler(404)\n",
        "def not_found_error(error):\n",
        "    return \"Sorry, page not found!\", 404 # Return message and 404 status code\n",
        "\n",
        "@app.route('/')\n",
        "def home():\n",
        "    return \"Go to a non-existent URL like /abc to see the 404 error.\"\n",
        "\n",
        "if __name__ == '__main__':\n",
        "    app.run(debug=True)"
      ],
      "metadata": {
        "colab": {
          "base_uri": "https://localhost:8080/"
        },
        "id": "Y4b_sdFlMHAd",
        "outputId": "ec637999-d29d-49f0-94e8-ef427525a63d"
      },
      "execution_count": 10,
      "outputs": [
        {
          "output_type": "stream",
          "name": "stdout",
          "text": [
            " * Serving Flask app '__main__'\n",
            " * Debug mode: on\n"
          ]
        },
        {
          "output_type": "stream",
          "name": "stderr",
          "text": [
            "INFO:werkzeug:\u001b[31m\u001b[1mWARNING: This is a development server. Do not use it in a production deployment. Use a production WSGI server instead.\u001b[0m\n",
            " * Running on http://127.0.0.1:5000\n",
            "INFO:werkzeug:\u001b[33mPress CTRL+C to quit\u001b[0m\n",
            "INFO:werkzeug: * Restarting with stat\n"
          ]
        }
      ]
    },
    {
      "cell_type": "code",
      "source": [
        "# 11. How do you structure a Flask app using Blueprints?\n",
        "\n",
        "from flask import Flask, Blueprint\n",
        "\n",
        "# 1. Define the Blueprint\n",
        "my_bp = Blueprint('my_bp', __name__, url_prefix='/module')\n",
        "\n",
        "@my_bp.route('/')\n",
        "def bp_index():\n",
        "    return \"From Blueprint!\"\n",
        "\n",
        "@my_bp.route('/info')\n",
        "def bp_info():\n",
        "    return \"Blueprint Info!\"\n",
        "\n",
        "# 2. Create the main app and register the Blueprint\n",
        "app = Flask(__name__)\n",
        "app.register_blueprint(my_bp)\n",
        "\n",
        "@app.route('/')\n",
        "def app_index():\n",
        "    return \"From Main App!\"\n",
        "\n",
        "if __name__ == '__main__':\n",
        "    app.run(debug=True)"
      ],
      "metadata": {
        "colab": {
          "base_uri": "https://localhost:8080/"
        },
        "id": "L6QSlvRDMWfA",
        "outputId": "6d493907-420d-4150-c281-4a6dbe422633"
      },
      "execution_count": 11,
      "outputs": [
        {
          "output_type": "stream",
          "name": "stdout",
          "text": [
            " * Serving Flask app '__main__'\n",
            " * Debug mode: on\n"
          ]
        },
        {
          "output_type": "stream",
          "name": "stderr",
          "text": [
            "INFO:werkzeug:\u001b[31m\u001b[1mWARNING: This is a development server. Do not use it in a production deployment. Use a production WSGI server instead.\u001b[0m\n",
            " * Running on http://127.0.0.1:5000\n",
            "INFO:werkzeug:\u001b[33mPress CTRL+C to quit\u001b[0m\n",
            "INFO:werkzeug: * Restarting with stat\n"
          ]
        }
      ]
    },
    {
      "cell_type": "code",
      "source": [
        "# 12. How do you define a custom Jinja filter in Flask?\n",
        "\n",
        "from flask import Flask, render_template_string\n",
        "\n",
        "app = Flask(__name__)\n",
        "\n",
        "# Define filter function\n",
        "def custom_upper(s):\n",
        "    return s.upper()\n",
        "\n",
        "# Register filter\n",
        "app.add_template_filter(custom_upper, 'upper_case')\n",
        "\n",
        "@app.route('/')\n",
        "def home():\n",
        "    return render_template_string(\"<h1>{{ 'hello' | upper_case }}</h1>\")\n",
        "\n",
        "if __name__ == '__main__':\n",
        "    app.run(debug=True)"
      ],
      "metadata": {
        "colab": {
          "base_uri": "https://localhost:8080/"
        },
        "id": "Bk2pvKzLMijM",
        "outputId": "bb164adb-e27e-47df-cf6d-7842127556ef"
      },
      "execution_count": 12,
      "outputs": [
        {
          "output_type": "stream",
          "name": "stdout",
          "text": [
            " * Serving Flask app '__main__'\n",
            " * Debug mode: on\n"
          ]
        },
        {
          "output_type": "stream",
          "name": "stderr",
          "text": [
            "INFO:werkzeug:\u001b[31m\u001b[1mWARNING: This is a development server. Do not use it in a production deployment. Use a production WSGI server instead.\u001b[0m\n",
            " * Running on http://127.0.0.1:5000\n",
            "INFO:werkzeug:\u001b[33mPress CTRL+C to quit\u001b[0m\n",
            "INFO:werkzeug: * Restarting with stat\n"
          ]
        }
      ]
    },
    {
      "cell_type": "code",
      "source": [
        "# 13. How can you redirect with query parameters in Flask?\n",
        "\n",
        "from flask import Flask, redirect, url_for, request\n",
        "\n",
        "app = Flask(__name__)\n",
        "\n",
        "@app.route('/go')\n",
        "def go_to_results():\n",
        "    # Redirects to /results?data=hello&id=123\n",
        "    return redirect(url_for('show_results', data='hello', id=123))\n",
        "\n",
        "@app.route('/results')\n",
        "def show_results():\n",
        "    data = request.args.get('data', 'N/A')\n",
        "    item_id = request.args.get('id', 'N/A')\n",
        "    return f\"Data: {data}, ID: {item_id}\"\n",
        "\n",
        "if __name__ == '__main__':\n",
        "    app.run(debug=True)"
      ],
      "metadata": {
        "colab": {
          "base_uri": "https://localhost:8080/"
        },
        "id": "3O-b-HbwMpwv",
        "outputId": "38cab22a-2cd1-48fd-a070-73a78511542f"
      },
      "execution_count": 13,
      "outputs": [
        {
          "output_type": "stream",
          "name": "stdout",
          "text": [
            " * Serving Flask app '__main__'\n",
            " * Debug mode: on\n"
          ]
        },
        {
          "output_type": "stream",
          "name": "stderr",
          "text": [
            "INFO:werkzeug:\u001b[31m\u001b[1mWARNING: This is a development server. Do not use it in a production deployment. Use a production WSGI server instead.\u001b[0m\n",
            " * Running on http://127.0.0.1:5000\n",
            "INFO:werkzeug:\u001b[33mPress CTRL+C to quit\u001b[0m\n",
            "INFO:werkzeug: * Restarting with stat\n"
          ]
        }
      ]
    },
    {
      "cell_type": "code",
      "source": [
        "# 14. How do you return JSON responses in Flask?\n",
        "\n",
        "from flask import Flask, jsonify\n",
        "\n",
        "app = Flask(__name__)\n",
        "\n",
        "@app.route('/json')\n",
        "def get_json():\n",
        "    # Returns a JSON object: {\"message\": \"Hello world!\"}\n",
        "    return jsonify(message=\"Hello from JSON!\")\n",
        "\n",
        "if __name__ == '__main__':\n",
        "    app.run(debug=True)"
      ],
      "metadata": {
        "colab": {
          "base_uri": "https://localhost:8080/"
        },
        "id": "8VHBMGzYMw-k",
        "outputId": "cbae471c-ff3c-4e6b-d103-43b3401f7e33"
      },
      "execution_count": 14,
      "outputs": [
        {
          "output_type": "stream",
          "name": "stdout",
          "text": [
            " * Serving Flask app '__main__'\n",
            " * Debug mode: on\n"
          ]
        },
        {
          "output_type": "stream",
          "name": "stderr",
          "text": [
            "INFO:werkzeug:\u001b[31m\u001b[1mWARNING: This is a development server. Do not use it in a production deployment. Use a production WSGI server instead.\u001b[0m\n",
            " * Running on http://127.0.0.1:5000\n",
            "INFO:werkzeug:\u001b[33mPress CTRL+C to quit\u001b[0m\n",
            "INFO:werkzeug: * Restarting with stat\n"
          ]
        }
      ]
    },
    {
      "cell_type": "code",
      "source": [
        "# 15. How do you capture URL parameters in Flask?\n",
        "\n",
        "from flask import Flask, request\n",
        "\n",
        "app = Flask(__name__)\n",
        "\n",
        "@app.route('/user/<username>') # Captures 'username' from path\n",
        "def show_user(username):\n",
        "    # Access query param (e.g., /user/karthika?role=admin)\n",
        "    role = request.args.get('role', 'user')\n",
        "    return f\"User: {username}, Role: {role}\"\n",
        "\n",
        "if __name__ == '__main__':\n",
        "    app.run(debug=True)"
      ],
      "metadata": {
        "colab": {
          "base_uri": "https://localhost:8080/"
        },
        "id": "iAeOf6FpNBFA",
        "outputId": "04905eda-81fc-4b04-fbfd-f29207123341"
      },
      "execution_count": 15,
      "outputs": [
        {
          "output_type": "stream",
          "name": "stdout",
          "text": [
            " * Serving Flask app '__main__'\n",
            " * Debug mode: on\n"
          ]
        },
        {
          "output_type": "stream",
          "name": "stderr",
          "text": [
            "INFO:werkzeug:\u001b[31m\u001b[1mWARNING: This is a development server. Do not use it in a production deployment. Use a production WSGI server instead.\u001b[0m\n",
            " * Running on http://127.0.0.1:5000\n",
            "INFO:werkzeug:\u001b[33mPress CTRL+C to quit\u001b[0m\n",
            "INFO:werkzeug: * Restarting with stat\n"
          ]
        }
      ]
    },
    {
      "cell_type": "code",
      "source": [],
      "metadata": {
        "id": "1GZDq5WPOSRz"
      },
      "execution_count": null,
      "outputs": []
    }
  ]
}